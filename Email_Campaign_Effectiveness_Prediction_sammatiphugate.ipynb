{
  "nbformat": 4,
  "nbformat_minor": 0,
  "metadata": {
    "colab": {
      "provenance": [],
      "authorship_tag": "ABX9TyOOs3QU7v4sW3QuyYvUNge2",
      "include_colab_link": true
    },
    "kernelspec": {
      "name": "python3",
      "display_name": "Python 3"
    },
    "language_info": {
      "name": "python"
    }
  },
  "cells": [
    {
      "cell_type": "markdown",
      "metadata": {
        "id": "view-in-github",
        "colab_type": "text"
      },
      "source": [
        "<a href=\"https://colab.research.google.com/github/sammatiphugate/sammatiphugate/blob/main/Email_Campaign_Effectiveness_Prediction_sammatiphugate.ipynb\" target=\"_parent\"><img src=\"https://colab.research.google.com/assets/colab-badge.svg\" alt=\"Open In Colab\"/></a>"
      ]
    },
    {
      "cell_type": "markdown",
      "source": [
        "NAME : SAMMATI PHUGATE\n",
        "\n",
        "ROLL NO : DS24MS28\n",
        "\n",
        "PROJECT TITLE : **InspireDirect Email Campaign Effectiveness Prediction**\n",
        "\n"
      ],
      "metadata": {
        "id": "wYiGRNy1e287"
      }
    },
    {
      "cell_type": "markdown",
      "source": [
        "**Problem Statement**\n",
        "\n",
        "Goal: Build a model to classify email interactions into categories like \"Ignored,\" \"Read,\" or \"Acknowledged,\" based on email and recipient features.\n",
        "\n",
        "Impact: Improve InspireDirect's campaign engagement and conversion rates by personalizing emails based on predicted behaviors.\n",
        "\n"
      ],
      "metadata": {
        "id": "4dlOz0xcfQDW"
      }
    },
    {
      "cell_type": "code",
      "source": [
        "#Import Libraries\n",
        "import pandas as pd\n",
        "import numpy as np\n",
        "import matplotlib.pyplot as plt\n",
        "import seaborn as sns\n",
        "\n",
        "from sklearn.model_selection import train_test_split, cross_val_score\n",
        "from sklearn.preprocessing import StandardScaler\n",
        "from sklearn.linear_model import LogisticRegression\n",
        "from sklearn.tree import DecisionTreeClassifier\n",
        "from sklearn.ensemble import RandomForestClassifier\n",
        "from sklearn.svm import SVC\n",
        "from sklearn.neighbors import KNeighborsClassifier\n",
        "\n",
        "from sklearn.metrics import confusion_matrix, classification_report, accuracy_score, precision_score, recall_score, f1_score\n"
      ],
      "metadata": {
        "id": "riCeM5dufln9"
      },
      "execution_count": null,
      "outputs": []
    },
    {
      "cell_type": "markdown",
      "source": [
        "**Load Dataset**"
      ],
      "metadata": {
        "id": "P0Me_PYng9L3"
      }
    },
    {
      "cell_type": "code",
      "execution_count": null,
      "metadata": {
        "colab": {
          "base_uri": "https://localhost:8080/",
          "height": 304
        },
        "id": "AfuhMT2eeo_K",
        "outputId": "4e869827-5001-43ba-db46-8a48c8920d10"
      },
      "outputs": [
        {
          "output_type": "error",
          "ename": "FileNotFoundError",
          "evalue": "[Errno 2] No such file or directory: '/content/data_email_campaign.csv'",
          "traceback": [
            "\u001b[0;31m---------------------------------------------------------------------------\u001b[0m",
            "\u001b[0;31mFileNotFoundError\u001b[0m                         Traceback (most recent call last)",
            "\u001b[0;32m<ipython-input-2-103bf2e9b3e5>\u001b[0m in \u001b[0;36m<cell line: 0>\u001b[0;34m()\u001b[0m\n\u001b[0;32m----> 1\u001b[0;31m \u001b[0mdf\u001b[0m \u001b[0;34m=\u001b[0m \u001b[0mpd\u001b[0m\u001b[0;34m.\u001b[0m\u001b[0mread_csv\u001b[0m\u001b[0;34m(\u001b[0m\u001b[0;34m'/content/data_email_campaign.csv'\u001b[0m\u001b[0;34m)\u001b[0m\u001b[0;34m\u001b[0m\u001b[0;34m\u001b[0m\u001b[0m\n\u001b[0m",
            "\u001b[0;32m/usr/local/lib/python3.11/dist-packages/pandas/io/parsers/readers.py\u001b[0m in \u001b[0;36mread_csv\u001b[0;34m(filepath_or_buffer, sep, delimiter, header, names, index_col, usecols, dtype, engine, converters, true_values, false_values, skipinitialspace, skiprows, skipfooter, nrows, na_values, keep_default_na, na_filter, verbose, skip_blank_lines, parse_dates, infer_datetime_format, keep_date_col, date_parser, date_format, dayfirst, cache_dates, iterator, chunksize, compression, thousands, decimal, lineterminator, quotechar, quoting, doublequote, escapechar, comment, encoding, encoding_errors, dialect, on_bad_lines, delim_whitespace, low_memory, memory_map, float_precision, storage_options, dtype_backend)\u001b[0m\n\u001b[1;32m   1024\u001b[0m     \u001b[0mkwds\u001b[0m\u001b[0;34m.\u001b[0m\u001b[0mupdate\u001b[0m\u001b[0;34m(\u001b[0m\u001b[0mkwds_defaults\u001b[0m\u001b[0;34m)\u001b[0m\u001b[0;34m\u001b[0m\u001b[0;34m\u001b[0m\u001b[0m\n\u001b[1;32m   1025\u001b[0m \u001b[0;34m\u001b[0m\u001b[0m\n\u001b[0;32m-> 1026\u001b[0;31m     \u001b[0;32mreturn\u001b[0m \u001b[0m_read\u001b[0m\u001b[0;34m(\u001b[0m\u001b[0mfilepath_or_buffer\u001b[0m\u001b[0;34m,\u001b[0m \u001b[0mkwds\u001b[0m\u001b[0;34m)\u001b[0m\u001b[0;34m\u001b[0m\u001b[0;34m\u001b[0m\u001b[0m\n\u001b[0m\u001b[1;32m   1027\u001b[0m \u001b[0;34m\u001b[0m\u001b[0m\n\u001b[1;32m   1028\u001b[0m \u001b[0;34m\u001b[0m\u001b[0m\n",
            "\u001b[0;32m/usr/local/lib/python3.11/dist-packages/pandas/io/parsers/readers.py\u001b[0m in \u001b[0;36m_read\u001b[0;34m(filepath_or_buffer, kwds)\u001b[0m\n\u001b[1;32m    618\u001b[0m \u001b[0;34m\u001b[0m\u001b[0m\n\u001b[1;32m    619\u001b[0m     \u001b[0;31m# Create the parser.\u001b[0m\u001b[0;34m\u001b[0m\u001b[0;34m\u001b[0m\u001b[0m\n\u001b[0;32m--> 620\u001b[0;31m     \u001b[0mparser\u001b[0m \u001b[0;34m=\u001b[0m \u001b[0mTextFileReader\u001b[0m\u001b[0;34m(\u001b[0m\u001b[0mfilepath_or_buffer\u001b[0m\u001b[0;34m,\u001b[0m \u001b[0;34m**\u001b[0m\u001b[0mkwds\u001b[0m\u001b[0;34m)\u001b[0m\u001b[0;34m\u001b[0m\u001b[0;34m\u001b[0m\u001b[0m\n\u001b[0m\u001b[1;32m    621\u001b[0m \u001b[0;34m\u001b[0m\u001b[0m\n\u001b[1;32m    622\u001b[0m     \u001b[0;32mif\u001b[0m \u001b[0mchunksize\u001b[0m \u001b[0;32mor\u001b[0m \u001b[0miterator\u001b[0m\u001b[0;34m:\u001b[0m\u001b[0;34m\u001b[0m\u001b[0;34m\u001b[0m\u001b[0m\n",
            "\u001b[0;32m/usr/local/lib/python3.11/dist-packages/pandas/io/parsers/readers.py\u001b[0m in \u001b[0;36m__init__\u001b[0;34m(self, f, engine, **kwds)\u001b[0m\n\u001b[1;32m   1618\u001b[0m \u001b[0;34m\u001b[0m\u001b[0m\n\u001b[1;32m   1619\u001b[0m         \u001b[0mself\u001b[0m\u001b[0;34m.\u001b[0m\u001b[0mhandles\u001b[0m\u001b[0;34m:\u001b[0m \u001b[0mIOHandles\u001b[0m \u001b[0;34m|\u001b[0m \u001b[0;32mNone\u001b[0m \u001b[0;34m=\u001b[0m \u001b[0;32mNone\u001b[0m\u001b[0;34m\u001b[0m\u001b[0;34m\u001b[0m\u001b[0m\n\u001b[0;32m-> 1620\u001b[0;31m         \u001b[0mself\u001b[0m\u001b[0;34m.\u001b[0m\u001b[0m_engine\u001b[0m \u001b[0;34m=\u001b[0m \u001b[0mself\u001b[0m\u001b[0;34m.\u001b[0m\u001b[0m_make_engine\u001b[0m\u001b[0;34m(\u001b[0m\u001b[0mf\u001b[0m\u001b[0;34m,\u001b[0m \u001b[0mself\u001b[0m\u001b[0;34m.\u001b[0m\u001b[0mengine\u001b[0m\u001b[0;34m)\u001b[0m\u001b[0;34m\u001b[0m\u001b[0;34m\u001b[0m\u001b[0m\n\u001b[0m\u001b[1;32m   1621\u001b[0m \u001b[0;34m\u001b[0m\u001b[0m\n\u001b[1;32m   1622\u001b[0m     \u001b[0;32mdef\u001b[0m \u001b[0mclose\u001b[0m\u001b[0;34m(\u001b[0m\u001b[0mself\u001b[0m\u001b[0;34m)\u001b[0m \u001b[0;34m->\u001b[0m \u001b[0;32mNone\u001b[0m\u001b[0;34m:\u001b[0m\u001b[0;34m\u001b[0m\u001b[0;34m\u001b[0m\u001b[0m\n",
            "\u001b[0;32m/usr/local/lib/python3.11/dist-packages/pandas/io/parsers/readers.py\u001b[0m in \u001b[0;36m_make_engine\u001b[0;34m(self, f, engine)\u001b[0m\n\u001b[1;32m   1878\u001b[0m                 \u001b[0;32mif\u001b[0m \u001b[0;34m\"b\"\u001b[0m \u001b[0;32mnot\u001b[0m \u001b[0;32min\u001b[0m \u001b[0mmode\u001b[0m\u001b[0;34m:\u001b[0m\u001b[0;34m\u001b[0m\u001b[0;34m\u001b[0m\u001b[0m\n\u001b[1;32m   1879\u001b[0m                     \u001b[0mmode\u001b[0m \u001b[0;34m+=\u001b[0m \u001b[0;34m\"b\"\u001b[0m\u001b[0;34m\u001b[0m\u001b[0;34m\u001b[0m\u001b[0m\n\u001b[0;32m-> 1880\u001b[0;31m             self.handles = get_handle(\n\u001b[0m\u001b[1;32m   1881\u001b[0m                 \u001b[0mf\u001b[0m\u001b[0;34m,\u001b[0m\u001b[0;34m\u001b[0m\u001b[0;34m\u001b[0m\u001b[0m\n\u001b[1;32m   1882\u001b[0m                 \u001b[0mmode\u001b[0m\u001b[0;34m,\u001b[0m\u001b[0;34m\u001b[0m\u001b[0;34m\u001b[0m\u001b[0m\n",
            "\u001b[0;32m/usr/local/lib/python3.11/dist-packages/pandas/io/common.py\u001b[0m in \u001b[0;36mget_handle\u001b[0;34m(path_or_buf, mode, encoding, compression, memory_map, is_text, errors, storage_options)\u001b[0m\n\u001b[1;32m    871\u001b[0m         \u001b[0;32mif\u001b[0m \u001b[0mioargs\u001b[0m\u001b[0;34m.\u001b[0m\u001b[0mencoding\u001b[0m \u001b[0;32mand\u001b[0m \u001b[0;34m\"b\"\u001b[0m \u001b[0;32mnot\u001b[0m \u001b[0;32min\u001b[0m \u001b[0mioargs\u001b[0m\u001b[0;34m.\u001b[0m\u001b[0mmode\u001b[0m\u001b[0;34m:\u001b[0m\u001b[0;34m\u001b[0m\u001b[0;34m\u001b[0m\u001b[0m\n\u001b[1;32m    872\u001b[0m             \u001b[0;31m# Encoding\u001b[0m\u001b[0;34m\u001b[0m\u001b[0;34m\u001b[0m\u001b[0m\n\u001b[0;32m--> 873\u001b[0;31m             handle = open(\n\u001b[0m\u001b[1;32m    874\u001b[0m                 \u001b[0mhandle\u001b[0m\u001b[0;34m,\u001b[0m\u001b[0;34m\u001b[0m\u001b[0;34m\u001b[0m\u001b[0m\n\u001b[1;32m    875\u001b[0m                 \u001b[0mioargs\u001b[0m\u001b[0;34m.\u001b[0m\u001b[0mmode\u001b[0m\u001b[0;34m,\u001b[0m\u001b[0;34m\u001b[0m\u001b[0;34m\u001b[0m\u001b[0m\n",
            "\u001b[0;31mFileNotFoundError\u001b[0m: [Errno 2] No such file or directory: '/content/data_email_campaign.csv'"
          ]
        }
      ],
      "source": [
        "df = pd.read_csv('/content/data_email_campaign.csv')\n"
      ]
    },
    {
      "cell_type": "code",
      "source": [
        "df.head()\n"
      ],
      "metadata": {
        "id": "lLPNUNOSh-n3"
      },
      "execution_count": null,
      "outputs": []
    },
    {
      "cell_type": "code",
      "source": [
        "df.columns\n"
      ],
      "metadata": {
        "id": "epfurO8miFY1"
      },
      "execution_count": null,
      "outputs": []
    },
    {
      "cell_type": "code",
      "source": [
        "df.info()\n"
      ],
      "metadata": {
        "id": "ttLBy78ZiLaK"
      },
      "execution_count": null,
      "outputs": []
    },
    {
      "cell_type": "code",
      "source": [
        "df = df.drop(columns=['Email_ID'])\n"
      ],
      "metadata": {
        "id": "y3u4s5WmiUgM"
      },
      "execution_count": null,
      "outputs": []
    },
    {
      "cell_type": "markdown",
      "source": [
        "**Data Cleaning**\n"
      ],
      "metadata": {
        "id": "HAiXzv9QieuX"
      }
    },
    {
      "cell_type": "code",
      "source": [
        "# Check for missing values\n",
        "df.isnull().sum()\n"
      ],
      "metadata": {
        "id": "OPNKKaJwid6R"
      },
      "execution_count": null,
      "outputs": []
    },
    {
      "cell_type": "code",
      "source": [
        "# Fill missing values\n",
        "df['Customer_Location'] = df['Customer_Location'].fillna('Unknown')\n"
      ],
      "metadata": {
        "id": "skliFNMdjCC_"
      },
      "execution_count": null,
      "outputs": []
    },
    {
      "cell_type": "code",
      "source": [
        "\n",
        "df = df.dropna(subset=['Total_Past_Communications', 'Total_Links','Total_Images'])\n"
      ],
      "metadata": {
        "id": "keBfBNn0jJ9y"
      },
      "execution_count": null,
      "outputs": []
    },
    {
      "cell_type": "code",
      "source": [
        "df.isna().sum()\n"
      ],
      "metadata": {
        "id": "v9hSlKMwjLjB"
      },
      "execution_count": null,
      "outputs": []
    },
    {
      "cell_type": "code",
      "source": [
        "df.shape\n"
      ],
      "metadata": {
        "id": "a0SuH75QjiUB"
      },
      "execution_count": null,
      "outputs": []
    },
    {
      "cell_type": "markdown",
      "source": [],
      "metadata": {
        "id": "Z4r2TI9Qj-Is"
      }
    },
    {
      "cell_type": "markdown",
      "source": [
        "**EDA**\n"
      ],
      "metadata": {
        "id": "XTsvBv_3j-b7"
      }
    },
    {
      "cell_type": "markdown",
      "source": [
        "(i) **Univariate Analysis**\n",
        "\n"
      ],
      "metadata": {
        "id": "7Ag8p5uLkft9"
      }
    },
    {
      "cell_type": "code",
      "source": [
        "# Target distribution\n",
        "sns.countplot(x='Email_Status', data=df)\n",
        "plt.title(\"Target Variable Distribution\")\n",
        "plt.show()"
      ],
      "metadata": {
        "id": "ejGXC_c2j11d"
      },
      "execution_count": null,
      "outputs": []
    },
    {
      "cell_type": "markdown",
      "source": [
        "(i) **Bivariate  Analysis**\n",
        "\n"
      ],
      "metadata": {
        "id": "MoDqom25BK6v"
      }
    },
    {
      "cell_type": "code",
      "source": [
        "sns.boxplot(x='Email_Status', y='Subject_Hotness_Score', data=df)\n",
        "plt.title(\"Subject Score vs Email_Status\")\n",
        "plt.show()"
      ],
      "metadata": {
        "id": "UL8QPIaPBHbm"
      },
      "execution_count": null,
      "outputs": []
    },
    {
      "cell_type": "code",
      "source": [
        "plt.figure(figsize=(12,8))\n",
        "sns.barplot(df, y='Total_Past_Communications', x = 'Email_Status')\n",
        "plt.tight_layout()\n",
        "plt.show()"
      ],
      "metadata": {
        "id": "td2us8VLB13j"
      },
      "execution_count": null,
      "outputs": []
    },
    {
      "cell_type": "code",
      "source": [
        "plt.figure(figsize=(12,8))\n",
        "sns.boxplot(df, y='Subject_Hotness_Score',x='Email_Campaign_Type' ,hue = 'Email_Status')\n",
        "plt.tight_layout()\n",
        "plt.show()"
      ],
      "metadata": {
        "id": "NAigpoc_CEBw"
      },
      "execution_count": null,
      "outputs": []
    },
    {
      "cell_type": "code",
      "source": [
        "plt.figure(figsize=(10, 6))\n",
        "sns.heatmap(df.select_dtypes(include=[np.number]).corr(), annot=True, cmap='coolwarm')\n",
        "plt.title('Correlation Matrix')\n",
        "plt.show()"
      ],
      "metadata": {
        "id": "yZXsathtCYQ8"
      },
      "execution_count": null,
      "outputs": []
    },
    {
      "cell_type": "code",
      "source": [
        "sns.boxplot(data=df[['Word_Count', 'Total_Links', 'Total_Images']])\n",
        "plt.title('Boxplots for Outlier Detection')\n",
        "plt.show()"
      ],
      "metadata": {
        "id": "CtF1iIz7Ck3L"
      },
      "execution_count": null,
      "outputs": []
    },
    {
      "cell_type": "markdown",
      "source": [
        "**Distributions and Transformations**"
      ],
      "metadata": {
        "id": "34l0QQ_DCtpD"
      }
    },
    {
      "cell_type": "code",
      "source": [
        "from scipy.stats import skew\n",
        "import matplotlib.pyplot as plt\n",
        "import seaborn as sns\n",
        "import numpy as np\n",
        "\n",
        "# Calculate and print skewness before transformation\n",
        "original_skew = skew(df['Word_Count'])\n",
        "print(\"Skewness before transformation:\", original_skew)\n",
        "\n",
        "# Create a figure with 2 subplots\n",
        "fig, ax = plt.subplots(1, 2, figsize=(12, 5))\n",
        "\n",
        "# Plot original distribution\n",
        "sns.histplot(df['Word_Count'], kde=True, ax=ax[0])\n",
        "ax[0].set_title('Original Word_Count Distribution')\n",
        "\n",
        "# Apply square root transformation\n",
        "df['Word_Count_sqrt'] = np.sqrt(df['Word_Count'])\n",
        "\n",
        "# Calculate and print skewness after transformation\n",
        "transformed_skew = skew(df['Word_Count_sqrt'])\n",
        "print(\"Skewness after transformation (sqrt):\", transformed_skew)\n",
        "\n",
        "# Plot transformed distribution\n",
        "sns.histplot(df['Word_Count_sqrt'], kde=True, ax=ax[1])\n",
        "ax[1].set_title('Transformed (sqrt) Word_Count Distribution')\n",
        "\n",
        "plt.tight_layout()\n",
        "plt.show()\n"
      ],
      "metadata": {
        "id": "n-zLBblsCwrj"
      },
      "execution_count": null,
      "outputs": []
    },
    {
      "cell_type": "markdown",
      "source": [
        "**Feature Engineering**"
      ],
      "metadata": {
        "id": "EneNaQdMDa0j"
      }
    },
    {
      "cell_type": "code",
      "source": [
        "\n",
        "# List of categorical features to encode\n",
        "categorical_columns = ['Email_Type', 'Email_Source_Type', 'Email_Campaign_Type', 'Customer_Location', 'Time_Email_sent_Category']\n",
        "\n",
        "# Apply one-hot encoding for each column individually\n",
        "for col in categorical_columns:\n",
        "    dummies = pd.get_dummies(df[col], prefix=col, drop_first=True)\n",
        "    df = pd.concat([df.drop(col, axis=1), dummies], axis=1)\n"
      ],
      "metadata": {
        "id": "MeXB9gI4Dd1T"
      },
      "execution_count": null,
      "outputs": []
    },
    {
      "cell_type": "markdown",
      "source": [
        "**Split Data\n",
        " ** *italicized text*"
      ],
      "metadata": {
        "id": "pH6Fq2mEExjc"
      }
    },
    {
      "cell_type": "code",
      "source": [
        "from sklearn.model_selection import train_test_split\n",
        "\n",
        "# Separate features and target variable using .copy() for safety\n",
        "features = df.drop(columns=['Email_Status']).copy()\n",
        "target = df['Email_Status'].copy()\n",
        "\n",
        "# Split the dataset into training and testing sets\n",
        "X_train, X_test, y_train, y_test = train_test_split(\n",
        "    features, target,\n",
        "    test_size=0.2,       # 20% test size\n",
        "    stratify=target,     # Optional: preserves class distribution in train/test\n",
        "    random_state=42      # Reproducibility\n",
        ")\n"
      ],
      "metadata": {
        "id": "AgnLoWieE08M"
      },
      "execution_count": null,
      "outputs": []
    },
    {
      "cell_type": "markdown",
      "source": [
        "**Logistic Regression**"
      ],
      "metadata": {
        "id": "pz1eifQbFDmp"
      }
    },
    {
      "cell_type": "code",
      "source": [
        "from sklearn.linear_model import LogisticRegression\n",
        "from sklearn.preprocessing import StandardScaler\n",
        "from sklearn.pipeline import Pipeline\n",
        "\n",
        "# Create a pipeline to standardize and train Logistic Regression\n",
        "logistic_pipeline = Pipeline(steps=[\n",
        "    ('scaler', StandardScaler()),\n",
        "    ('log_reg', LogisticRegression(\n",
        "        multi_class='multinomial',\n",
        "        solver='lbfgs',\n",
        "        max_iter=500,\n",
        "        random_state=42  # Ensures reproducibility\n",
        "    ))\n",
        "])\n",
        "\n",
        "# Fit the pipeline to the training data\n",
        "logistic_pipeline.fit(X_train, y_train)\n"
      ],
      "metadata": {
        "id": "riq-mIiaFC7O"
      },
      "execution_count": null,
      "outputs": []
    },
    {
      "cell_type": "markdown",
      "source": [
        "**Prediction & Evaluation**"
      ],
      "metadata": {
        "id": "soZPkszfFh7O"
      }
    },
    {
      "cell_type": "code",
      "source": [
        "# Predict class labels\n",
        "y_pred = logistic_pipeline.predict(X_test)\n",
        "\n",
        "# Optional: Predict class probabilities\n",
        "y_proba = logistic_pipeline.predict_proba(X_test)\n"
      ],
      "metadata": {
        "id": "OpAz8hqRFjhV"
      },
      "execution_count": null,
      "outputs": []
    },
    {
      "cell_type": "code",
      "source": [
        "from sklearn.metrics import classification_report, confusion_matrix, accuracy_score\n",
        "\n",
        "# Confusion Matrix\n",
        "print(\"Confusion Matrix:\")\n",
        "print(confusion_matrix(y_test, y_pred))\n",
        "\n",
        "# Classification Report (includes precision, recall, F1-score)\n",
        "print(\"\\nClassification Report:\")\n",
        "print(classification_report(y_test, y_pred))\n",
        "\n",
        "# Accuracy Score\n",
        "acc = accuracy_score(y_test, y_pred)\n",
        "print(f\"Accuracy Score: {acc:.4f}\")\n"
      ],
      "metadata": {
        "id": "xKa1I9fvGEIV"
      },
      "execution_count": null,
      "outputs": []
    },
    {
      "cell_type": "markdown",
      "source": [
        "**Decision Tree Classifier**"
      ],
      "metadata": {
        "id": "JyHbAcpdG_uz"
      }
    },
    {
      "cell_type": "code",
      "source": [
        "from sklearn.tree import DecisionTreeClassifier\n",
        "from sklearn.metrics import classification_report, accuracy_score, confusion_matrix\n",
        "\n",
        "# Step 1: Initialize the Decision Tree model with default parameters\n",
        "decision_tree_model = DecisionTreeClassifier(random_state=42)\n",
        "\n",
        "# Step 2: Train the model on the training data\n",
        "decision_tree_model.fit(X_train, y_train)\n",
        "\n",
        "# Step 3: Make predictions on the test set\n",
        "dt_predictions = decision_tree_model.predict(X_test)\n",
        "\n",
        "# Step 4: Evaluate performance\n",
        "print(\"\\n📊 Decision Tree Classifier Evaluation:\")\n",
        "print(\"Accuracy Score:\", accuracy_score(y_test, dt_predictions))\n",
        "print(\"\\nConfusion Matrix:\\n\", confusion_matrix(y_test, dt_predictions))\n",
        "print(\"\\nClassification Report:\\n\", classification_report(y_test, dt_predictions))\n"
      ],
      "metadata": {
        "id": "M4etM1FuGwv1"
      },
      "execution_count": null,
      "outputs": []
    },
    {
      "cell_type": "markdown",
      "source": [
        "**Random Forest Classifier**"
      ],
      "metadata": {
        "id": "xQUOUhDnHIOT"
      }
    },
    {
      "cell_type": "code",
      "source": [
        "from sklearn.ensemble import RandomForestClassifier\n",
        "from sklearn.metrics import classification_report, confusion_matrix, accuracy_score\n",
        "\n",
        "# Step 1: Initialize the Random Forest model\n",
        "rf_model = RandomForestClassifier(n_estimators=100, random_state=42)\n",
        "\n",
        "# Step 2: Train the model\n",
        "rf_model.fit(X_train, y_train)\n",
        "\n",
        "# Step 3: Predict on test data\n",
        "rf_predictions = rf_model.predict(X_test)\n",
        "\n",
        "# Step 4: Evaluate model performance\n",
        "print(\"\\n🌲 Random Forest Classifier Evaluation:\")\n",
        "print(\"Accuracy Score:\", accuracy_score(y_test, rf_predictions))\n",
        "print(\"\\nConfusion Matrix:\\n\", confusion_matrix(y_test, rf_predictions))\n",
        "print(\"\\nClassification Report:\\n\", classification_report(y_test, rf_predictions))\n"
      ],
      "metadata": {
        "id": "BRf-4kolG9NP"
      },
      "execution_count": null,
      "outputs": []
    },
    {
      "cell_type": "markdown",
      "source": [
        "**K-Nearest Neighbors Classifier**"
      ],
      "metadata": {
        "id": "D6iSwrCJHMit"
      }
    },
    {
      "cell_type": "code",
      "source": [
        "from sklearn.neighbors import KNeighborsClassifier\n",
        "from sklearn.metrics import classification_report, confusion_matrix, accuracy_score\n",
        "\n",
        "# Step 1: Initialize the KNN model\n",
        "knn_model = KNeighborsClassifier(n_neighbors=5)  # You can tune this later\n",
        "\n",
        "# Step 2: Train the KNN model on scaled training data\n",
        "knn_model.fit(X_train, y_train)\n",
        "\n",
        "# Step 3: Predict on scaled test data\n",
        "knn_predictions = knn_model.predict(X_test)\n",
        "\n",
        "# Step 4: Evaluate performance\n",
        "print(\"\\n🤝 K-Nearest Neighbors Classifier Evaluation:\")\n",
        "print(\"Accuracy Score:\", accuracy_score(y_test, knn_predictions))\n",
        "print(\"\\nConfusion Matrix:\\n\", confusion_matrix(y_test, knn_predictions))\n",
        "print(\"\\nClassification Report:\\n\", classification_report(y_test, knn_predictions))\n"
      ],
      "metadata": {
        "id": "gniL7PaUHS48"
      },
      "execution_count": null,
      "outputs": []
    },
    {
      "cell_type": "markdown",
      "source": [
        "**Support Vector Machine Classifier**"
      ],
      "metadata": {
        "id": "1k-MtZFBH2Ms"
      }
    },
    {
      "cell_type": "code",
      "source": [
        "from sklearn.svm import SVC\n",
        "from sklearn.metrics import classification_report, confusion_matrix, accuracy_score\n",
        "\n",
        "# Step 1: Initialize the SVM model with RBF kernel (can try 'linear' or 'poly' for different kernels)\n",
        "svm_model = SVC(kernel='rbf', random_state=42)\n",
        "\n",
        "# Step 2: Train the SVM model on scaled training data\n",
        "svm_model.fit(X_train, y_train)\n",
        "\n",
        "# Step 3: Predict on scaled test data\n",
        "svm_predictions = svm_model.predict(X_test)\n",
        "\n",
        "# Step 4: Evaluate model performance\n",
        "print(\"\\n🔍 Support Vector Machine (SVM) Classifier Evaluation:\")\n",
        "print(\"Accuracy Score:\", accuracy_score(y_test, svm_predictions))\n",
        "print(\"\\nConfusion Matrix:\\n\", confusion_matrix(y_test, svm_predictions))\n",
        "print(\"\\nClassification Report:\\n\", classification_report(y_test, svm_predictions))\n"
      ],
      "metadata": {
        "id": "d6W7uxxRH79I"
      },
      "execution_count": null,
      "outputs": []
    },
    {
      "cell_type": "markdown",
      "source": [
        "**Cross Validation for all models**"
      ],
      "metadata": {
        "id": "2fTmpIYIIizL"
      }
    },
    {
      "cell_type": "code",
      "source": [
        "from sklearn.model_selection import cross_val_score\n",
        "import numpy as np\n",
        "\n",
        "# Define the cross-validation function\n",
        "def cross_val(model, X, y, cv=5):\n",
        "    \"\"\"\n",
        "    Perform cross-validation on the given model and return the mean accuracy score.\n",
        "\n",
        "    :param model: The machine learning model to evaluate\n",
        "    :param X: Feature matrix\n",
        "    :param y: Target variable\n",
        "    :param cv: Number of folds in cross-validation (default is 5)\n",
        "    :return: Mean accuracy score\n",
        "    \"\"\"\n",
        "    scores = cross_val_score(model, X, y, cv=cv, scoring='accuracy')\n",
        "    return np.mean(scores)\n",
        "\n",
        "# Dictionary of models to evaluate\n",
        "models = {\n",
        "    'Logistic Regression': log_reg,\n",
        "    'Decision Tree': dt,\n",
        "    'Random Forest': rf,\n",
        "    'KNN': knn,\n",
        "    'SVM': svm\n",
        "}\n",
        "\n",
        "# Loop over models and calculate cross-validation score\n",
        "for name, model in models.items():\n",
        "    if name in ['Logistic Regression', 'KNN', 'SVM']:  # For models that need scaled data\n",
        "        score = cross_val(model, X_train, y_train)\n",
        "    else:  # For tree-based models that don't require scaling\n",
        "        score = cross_val(model, X_train, y_train)\n",
        "\n",
        "    # Print the result for each model\n",
        "    print(f\"Cross-Validation Accuracy for {name}: {score:.4f}\")\n"
      ],
      "metadata": {
        "id": "Z5mLZxBzIoME"
      },
      "execution_count": null,
      "outputs": []
    },
    {
      "cell_type": "markdown",
      "source": [
        "**bold text**"
      ],
      "metadata": {
        "id": "4i6lMnpZJJAW"
      }
    }
  ]
}